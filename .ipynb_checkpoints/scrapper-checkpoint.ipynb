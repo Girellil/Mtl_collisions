{
 "cells": [
  {
   "cell_type": "code",
   "execution_count": 1,
   "id": "4b05bfa1",
   "metadata": {},
   "outputs": [],
   "source": [
    "from splinter import Browser\n",
    "from bs4 import BeautifulSoup as bsoup\n",
    "import matplotlib.pyplot as plt\n",
    "import pandas as pd\n",
    "\n",
    "browser = Browser('chrome')\n",
    "\n",
    "url = \"https://www.homedepot.ca/en/home.html\"\n",
    "browser.visit(url)\n",
    "\n",
    "html = browser.html\n",
    "soup = bsoup(html, 'html.parser')"
   ]
  },
  {
   "cell_type": "code",
   "execution_count": null,
   "id": "aa9f5f4d",
   "metadata": {},
   "outputs": [],
   "source": [
    "temp_readings = []\n",
    "\n",
    "# Loop through the scraped data to create a list of rows\n",
    "reading_rows = soup.find_all(\"tr\", class_=\"data-row\")\n",
    "\n",
    "for row in reading_rows:\n",
    "    row_dict = {}\n",
    "    row_dict = {\"id\": row.find_all(\"td\")[0].text,\n",
    "               \"terrestrial_date\" : row.find_all(\"td\")[1].text,\n",
    "               \"sol\" : row.find_all(\"td\")[2].text,\n",
    "               \"ls\" : row.find_all(\"td\")[3].text,\n",
    "               \"month\" : row.find_all(\"td\")[4].text,\n",
    "               \"min_temp\" : row.find_all(\"td\")[5].text,\n",
    "               \"pressure\" : row.find_all(\"td\")[6].text \n",
    "               }\n",
    "    temp_readings.append(row_dict)"
   ]
  }
 ],
 "metadata": {
  "kernelspec": {
   "display_name": "Python 3 (ipykernel)",
   "language": "python",
   "name": "python3"
  },
  "language_info": {
   "codemirror_mode": {
    "name": "ipython",
    "version": 3
   },
   "file_extension": ".py",
   "mimetype": "text/x-python",
   "name": "python",
   "nbconvert_exporter": "python",
   "pygments_lexer": "ipython3",
   "version": "3.11.5"
  }
 },
 "nbformat": 4,
 "nbformat_minor": 5
}
