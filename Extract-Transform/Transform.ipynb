{
 "cells": [
  {
   "cell_type": "code",
   "execution_count": null,
   "metadata": {},
   "outputs": [],
   "source": [
    "%run ExtractAPI.ipynb\n",
    "pd.set_option('display.max_rows', None)\n",
    "pd.set_option('display.max_columns', None)\n",
    "print(mtlcollisions_df.dtypes)"
   ]
  },
  {
   "cell_type": "code",
   "execution_count": null,
   "metadata": {},
   "outputs": [],
   "source": [
    "mtlcollisions_df.sample(3)"
   ]
  },
  {
   "cell_type": "code",
   "execution_count": null,
   "metadata": {},
   "outputs": [],
   "source": [
    "print(len(mtlcollisions_df))"
   ]
  },
  {
   "cell_type": "code",
   "execution_count": null,
   "metadata": {},
   "outputs": [],
   "source": [
    "col_to_drop = [\n",
    "    #\"NO_CIVIQ_ACCDN\",\n",
    "    \"SFX_NO_CIVIQ_ACCDN\",\n",
    "    \"BORNE_KM_ACCDN\",\n",
    "    \"TP_REPRR_ACCDN\",\n",
    "    \"ACCDN_PRES_DE\",\n",
    "    \"NB_METRE_DIST_ACCD\",\n",
    "    \"CD_GENRE_ACCDN\",\n",
    "    \"CD_SIT_PRTCE_ACCDN\",\n",
    "    \"NO_ROUTE\",\n",
    "    \"CD_CATEG_ROUTE\",\n",
    "    \"CD_ETAT_CHASS\",\n",
    "    \"CD_ASPCT_ROUTE\",\n",
    "    \"CD_POSI_ACCDN\",\n",
    "    \"CD_CONFG_ROUTE\",\n",
    "    \"CD_PNT_CDRNL_ROUTE\",\n",
    "    \"CD_PNT_CDRNL_REPRR\",\n",
    "    \"CD_COND_METEO\",\n",
    "    \"REG_ADM\",\n",
    "    \"MRC\",\n",
    "    \"LOC_COTE_QD\",\n",
    "    \"LOC_COTE_PD\",\n",
    "    \"LOC_DETACHEE\"    \n",
    "]\n",
    "\n",
    "mtlcollisions_df_filtered = mtlcollisions_df.drop(columns=col_to_drop)"
   ]
  },
  {
   "cell_type": "code",
   "execution_count": null,
   "metadata": {},
   "outputs": [],
   "source": [
    "mtlcollisions_df_filtered.head(3)"
   ]
  },
  {
   "cell_type": "code",
   "execution_count": null,
   "metadata": {},
   "outputs": [],
   "source": [
    "test_string = mtlcollisions_df_filtered[\"HEURE_ACCDN\"]\n",
    "test_string[0:10]"
   ]
  },
  {
   "cell_type": "code",
   "execution_count": null,
   "metadata": {},
   "outputs": [],
   "source": [
    "mtlcollisions_df_filtered[\"DT_ACCDN\"] = pd.to_datetime(mtlcollisions_df_filtered[\"DT_ACCDN\"], format='%Y/%m/%d')\n",
    "mtlcollisions_df_filtered.sort_values(by='DT_ACCDN', ascending=False)\n",
    "mtlcollisions_df_filtered = mtlcollisions_df_filtered.loc[mtlcollisions_df_filtered[\"DT_ACCDN\"] > '2018-01-01']\n",
    "mtlcollisions_df_filtered.head(3)"
   ]
  },
  {
   "cell_type": "code",
   "execution_count": null,
   "metadata": {},
   "outputs": [],
   "source": [
    "mtlcollisions_df_filtered['HEURE_ACCDN'] = mtlcollisions_df_filtered['HEURE_ACCDN'].replace('Non précisé', '00:00:00-00:00:00')\n",
    "mtlcollisions_df_filtered[['init_time', 'final_time']] = mtlcollisions_df_filtered['HEURE_ACCDN'].str.split('-', expand=True)\n",
    "mtlcollisions_df_filtered.head(3)"
   ]
  },
  {
   "cell_type": "code",
   "execution_count": null,
   "metadata": {},
   "outputs": [],
   "source": [
    "print(mtlcollisions_df_filtered.dtypes[[\"DT_ACCDN\",\"HEURE_ACCDN\",\"init_time\", \"final_time\"]])"
   ]
  },
  {
   "cell_type": "code",
   "execution_count": null,
   "metadata": {},
   "outputs": [],
   "source": [
    "### MONGO DB does not handle dt.time format.\n",
    "#mtlcollisions_df_filtered['init_time'] = pd.to_datetime(mtlcollisions_df_filtered['init_time'], format='%H:%M:%S').dt.time\n",
    "#mtlcollisions_df_filtered['final_time'] = pd.to_datetime(mtlcollisions_df_filtered['final_time'], format='%H:%M:%S').dt.time\n",
    "#mtlcollisions_df_filtered.head(3)"
   ]
  },
  {
   "cell_type": "code",
   "execution_count": null,
   "metadata": {},
   "outputs": [],
   "source": []
  }
 ],
 "metadata": {
  "kernelspec": {
   "display_name": "Python 3 (ipykernel)",
   "language": "python",
   "name": "python3"
  },
  "language_info": {
   "codemirror_mode": {
    "name": "ipython",
    "version": 3
   },
   "file_extension": ".py",
   "mimetype": "text/x-python",
   "name": "python",
   "nbconvert_exporter": "python",
   "pygments_lexer": "ipython3",
   "version": "3.11.7"
  }
 },
 "nbformat": 4,
 "nbformat_minor": 4
}
