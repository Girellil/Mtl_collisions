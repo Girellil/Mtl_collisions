{
 "cells": [
  {
   "cell_type": "code",
   "execution_count": 1,
   "metadata": {},
   "outputs": [],
   "source": [
    "import pandas as pd\n",
    "import requests\n",
    "from io import StringIO"
   ]
  },
  {
   "cell_type": "code",
   "execution_count": 2,
   "metadata": {},
   "outputs": [],
   "source": [
    "mtlcollisions_csv = \"https://donnees.montreal.ca/dataset/cd722e22-376b-4b89-9bc2-7c7ab317ef6b/resource/05deae93-d9fc-4acb-9779-e0942b5e962f/download/collisions_routieres.csv\""
   ]
  },
  {
   "cell_type": "code",
   "execution_count": 3,
   "metadata": {},
   "outputs": [],
   "source": [
    "def download_csv(url):\n",
    "    response = requests.get(url)\n",
    "    # Raise an exception for bad status codes\n",
    "    response.raise_for_status()  \n",
    "    return response.text"
   ]
  },
  {
   "cell_type": "code",
   "execution_count": 4,
   "metadata": {},
   "outputs": [],
   "source": [
    "# Dowload data\n",
    "csv_data = download_csv(mtlcollisions_csv)\n",
    "\n",
    "# Read CSV data into pandas DataFrame\n",
    "mtlcollisions_df = pd.read_csv(StringIO(csv_data))"
   ]
  },
  {
   "cell_type": "code",
   "execution_count": 5,
   "metadata": {},
   "outputs": [
    {
     "name": "stdout",
     "output_type": "stream",
     "text": [
      "NO_SEQ_COLL         object\n",
      "JR_SEMN_ACCDN       object\n",
      "DT_ACCDN            object\n",
      "CD_MUNCP           float64\n",
      "NO_CIVIQ_ACCDN     float64\n",
      "                    ...   \n",
      "LOC_COTE_PD          int64\n",
      "LOC_DETACHEE        object\n",
      "LOC_IMPRECISION     object\n",
      "LOC_LONG           float64\n",
      "LOC_LAT            float64\n",
      "Length: 68, dtype: object\n"
     ]
    }
   ],
   "source": [
    "# Now 'df' contains your CSV data as a pandas DataFrame\n",
    "print(mtlcollisions_df.dtypes)"
   ]
  },
  {
   "cell_type": "code",
   "execution_count": 6,
   "metadata": {},
   "outputs": [
    {
     "data": {
      "text/plain": [
       "Index(['NO_SEQ_COLL', 'JR_SEMN_ACCDN', 'DT_ACCDN', 'CD_MUNCP',\n",
       "       'NO_CIVIQ_ACCDN', 'SFX_NO_CIVIQ_ACCDN', 'BORNE_KM_ACCDN', 'RUE_ACCDN',\n",
       "       'TP_REPRR_ACCDN', 'ACCDN_PRES_DE', 'NB_METRE_DIST_ACCD',\n",
       "       'CD_GENRE_ACCDN', 'CD_SIT_PRTCE_ACCDN', 'CD_ETAT_SURFC', 'CD_ECLRM',\n",
       "       'CD_ENVRN_ACCDN', 'NO_ROUTE', 'CD_CATEG_ROUTE', 'CD_ETAT_CHASS',\n",
       "       'CD_ASPCT_ROUTE', 'CD_LOCLN_ACCDN', 'CD_POSI_ACCDN', 'CD_CONFG_ROUTE',\n",
       "       'CD_ZON_TRAVX_ROUTR', 'CD_PNT_CDRNL_ROUTE', 'CD_PNT_CDRNL_REPRR',\n",
       "       'CD_COND_METEO', 'NB_VEH_IMPLIQUES_ACCDN', 'NB_MORTS',\n",
       "       'NB_BLESSES_GRAVES', 'NB_BLESSES_LEGERS', 'HEURE_ACCDN', 'AN',\n",
       "       'NB_VICTIMES_TOTAL', 'GRAVITE', 'REG_ADM', 'MRC',\n",
       "       'nb_automobile_camion_leger', 'nb_camionLourd_tractRoutier',\n",
       "       'nb_outil_equipement', 'nb_tous_autobus_minibus', 'nb_bicyclette',\n",
       "       'nb_cyclomoteur', 'nb_motocyclette', 'nb_taxi', 'nb_urgence',\n",
       "       'nb_motoneige', 'nb_VHR', 'nb_autres_types', 'nb_veh_non_precise',\n",
       "       'NB_DECES_PIETON', 'NB_BLESSES_PIETON', 'NB_VICTIMES_PIETON',\n",
       "       'NB_DECES_MOTO', 'NB_BLESSES_MOTO', 'NB_VICTIMES_MOTO', 'NB_DECES_VELO',\n",
       "       'NB_BLESSES_VELO', 'NB_VICTIMES_VELO', 'VITESSE_AUTOR', 'LOC_X',\n",
       "       'LOC_Y', 'LOC_COTE_QD', 'LOC_COTE_PD', 'LOC_DETACHEE',\n",
       "       'LOC_IMPRECISION', 'LOC_LONG', 'LOC_LAT'],\n",
       "      dtype='object')"
      ]
     },
     "execution_count": 6,
     "metadata": {},
     "output_type": "execute_result"
    }
   ],
   "source": [
    "mtlcollisions_df.columns"
   ]
  },
  {
   "cell_type": "code",
   "execution_count": 7,
   "metadata": {},
   "outputs": [
    {
     "data": {
      "text/html": [
       "<div>\n",
       "<style scoped>\n",
       "    .dataframe tbody tr th:only-of-type {\n",
       "        vertical-align: middle;\n",
       "    }\n",
       "\n",
       "    .dataframe tbody tr th {\n",
       "        vertical-align: top;\n",
       "    }\n",
       "\n",
       "    .dataframe thead th {\n",
       "        text-align: right;\n",
       "    }\n",
       "</style>\n",
       "<table border=\"1\" class=\"dataframe\">\n",
       "  <thead>\n",
       "    <tr style=\"text-align: right;\">\n",
       "      <th></th>\n",
       "      <th>NO_SEQ_COLL</th>\n",
       "      <th>JR_SEMN_ACCDN</th>\n",
       "      <th>DT_ACCDN</th>\n",
       "      <th>CD_MUNCP</th>\n",
       "      <th>NO_CIVIQ_ACCDN</th>\n",
       "      <th>SFX_NO_CIVIQ_ACCDN</th>\n",
       "      <th>BORNE_KM_ACCDN</th>\n",
       "      <th>RUE_ACCDN</th>\n",
       "      <th>TP_REPRR_ACCDN</th>\n",
       "      <th>ACCDN_PRES_DE</th>\n",
       "      <th>...</th>\n",
       "      <th>NB_VICTIMES_VELO</th>\n",
       "      <th>VITESSE_AUTOR</th>\n",
       "      <th>LOC_X</th>\n",
       "      <th>LOC_Y</th>\n",
       "      <th>LOC_COTE_QD</th>\n",
       "      <th>LOC_COTE_PD</th>\n",
       "      <th>LOC_DETACHEE</th>\n",
       "      <th>LOC_IMPRECISION</th>\n",
       "      <th>LOC_LONG</th>\n",
       "      <th>LOC_LAT</th>\n",
       "    </tr>\n",
       "  </thead>\n",
       "  <tbody>\n",
       "    <tr>\n",
       "      <th>0</th>\n",
       "      <td>SPVM _ 2012 _ 1</td>\n",
       "      <td>ME</td>\n",
       "      <td>2012/02/01</td>\n",
       "      <td>66102.0</td>\n",
       "      <td>3501.0</td>\n",
       "      <td>NaN</td>\n",
       "      <td>NaN</td>\n",
       "      <td>ST CHARLES</td>\n",
       "      <td>2.0</td>\n",
       "      <td>STAT</td>\n",
       "      <td>...</td>\n",
       "      <td>0</td>\n",
       "      <td>NaN</td>\n",
       "      <td>276517.37950</td>\n",
       "      <td>5.035127e+06</td>\n",
       "      <td>A</td>\n",
       "      <td>3</td>\n",
       "      <td>O</td>\n",
       "      <td>N</td>\n",
       "      <td>-73.861616</td>\n",
       "      <td>45.455505</td>\n",
       "    </tr>\n",
       "    <tr>\n",
       "      <th>1</th>\n",
       "      <td>SPVM _ 2012 _ 10</td>\n",
       "      <td>MA</td>\n",
       "      <td>2012/01/03</td>\n",
       "      <td>66023.0</td>\n",
       "      <td>NaN</td>\n",
       "      <td>NaN</td>\n",
       "      <td>NaN</td>\n",
       "      <td>TERR VILLE DE MTL</td>\n",
       "      <td>NaN</td>\n",
       "      <td>NaN</td>\n",
       "      <td>...</td>\n",
       "      <td>0</td>\n",
       "      <td>NaN</td>\n",
       "      <td>275209.46185</td>\n",
       "      <td>5.038619e+06</td>\n",
       "      <td>B</td>\n",
       "      <td>4</td>\n",
       "      <td>N</td>\n",
       "      <td>N</td>\n",
       "      <td>-73.878549</td>\n",
       "      <td>45.486871</td>\n",
       "    </tr>\n",
       "    <tr>\n",
       "      <th>2</th>\n",
       "      <td>SPVM _ 2012 _ 100</td>\n",
       "      <td>VE</td>\n",
       "      <td>2012/02/24</td>\n",
       "      <td>66023.0</td>\n",
       "      <td>NaN</td>\n",
       "      <td>NaN</td>\n",
       "      <td>NaN</td>\n",
       "      <td>JACQUES BIZARD</td>\n",
       "      <td>1.0</td>\n",
       "      <td>CHERRIER</td>\n",
       "      <td>...</td>\n",
       "      <td>0</td>\n",
       "      <td>50.0</td>\n",
       "      <td>275759.07900</td>\n",
       "      <td>5.039027e+06</td>\n",
       "      <td>A</td>\n",
       "      <td>1</td>\n",
       "      <td>N</td>\n",
       "      <td>O</td>\n",
       "      <td>-73.871542</td>\n",
       "      <td>45.490564</td>\n",
       "    </tr>\n",
       "    <tr>\n",
       "      <th>3</th>\n",
       "      <td>SPVM _ 2012 _ 1000</td>\n",
       "      <td>JE</td>\n",
       "      <td>2012/10/11</td>\n",
       "      <td>66142.0</td>\n",
       "      <td>11800.0</td>\n",
       "      <td>NaN</td>\n",
       "      <td>NaN</td>\n",
       "      <td>BD SALABERRY</td>\n",
       "      <td>NaN</td>\n",
       "      <td>NaN</td>\n",
       "      <td>...</td>\n",
       "      <td>0</td>\n",
       "      <td>NaN</td>\n",
       "      <td>280970.09315</td>\n",
       "      <td>5.038348e+06</td>\n",
       "      <td>A</td>\n",
       "      <td>1</td>\n",
       "      <td>O</td>\n",
       "      <td>N</td>\n",
       "      <td>-73.804841</td>\n",
       "      <td>45.484648</td>\n",
       "    </tr>\n",
       "    <tr>\n",
       "      <th>4</th>\n",
       "      <td>SPVM _ 2012 _ 10000</td>\n",
       "      <td>DI</td>\n",
       "      <td>2012/04/22</td>\n",
       "      <td>66023.0</td>\n",
       "      <td>38.0</td>\n",
       "      <td>NaN</td>\n",
       "      <td>NaN</td>\n",
       "      <td>PL DU COMMERCE</td>\n",
       "      <td>NaN</td>\n",
       "      <td>NaN</td>\n",
       "      <td>...</td>\n",
       "      <td>0</td>\n",
       "      <td>NaN</td>\n",
       "      <td>301391.47638</td>\n",
       "      <td>5.036357e+06</td>\n",
       "      <td>A</td>\n",
       "      <td>1</td>\n",
       "      <td>O</td>\n",
       "      <td>N</td>\n",
       "      <td>-73.543590</td>\n",
       "      <td>45.467136</td>\n",
       "    </tr>\n",
       "  </tbody>\n",
       "</table>\n",
       "<p>5 rows × 68 columns</p>\n",
       "</div>"
      ],
      "text/plain": [
       "           NO_SEQ_COLL JR_SEMN_ACCDN    DT_ACCDN  CD_MUNCP  NO_CIVIQ_ACCDN  \\\n",
       "0      SPVM _ 2012 _ 1            ME  2012/02/01   66102.0          3501.0   \n",
       "1     SPVM _ 2012 _ 10            MA  2012/01/03   66023.0             NaN   \n",
       "2    SPVM _ 2012 _ 100            VE  2012/02/24   66023.0             NaN   \n",
       "3   SPVM _ 2012 _ 1000            JE  2012/10/11   66142.0         11800.0   \n",
       "4  SPVM _ 2012 _ 10000            DI  2012/04/22   66023.0            38.0   \n",
       "\n",
       "  SFX_NO_CIVIQ_ACCDN  BORNE_KM_ACCDN          RUE_ACCDN  TP_REPRR_ACCDN  \\\n",
       "0                NaN             NaN         ST CHARLES             2.0   \n",
       "1                NaN             NaN  TERR VILLE DE MTL             NaN   \n",
       "2                NaN             NaN     JACQUES BIZARD             1.0   \n",
       "3                NaN             NaN       BD SALABERRY             NaN   \n",
       "4                NaN             NaN     PL DU COMMERCE             NaN   \n",
       "\n",
       "  ACCDN_PRES_DE  ...  NB_VICTIMES_VELO  VITESSE_AUTOR         LOC_X  \\\n",
       "0          STAT  ...                 0            NaN  276517.37950   \n",
       "1           NaN  ...                 0            NaN  275209.46185   \n",
       "2      CHERRIER  ...                 0           50.0  275759.07900   \n",
       "3           NaN  ...                 0            NaN  280970.09315   \n",
       "4           NaN  ...                 0            NaN  301391.47638   \n",
       "\n",
       "          LOC_Y  LOC_COTE_QD  LOC_COTE_PD  LOC_DETACHEE  LOC_IMPRECISION  \\\n",
       "0  5.035127e+06            A            3             O                N   \n",
       "1  5.038619e+06            B            4             N                N   \n",
       "2  5.039027e+06            A            1             N                O   \n",
       "3  5.038348e+06            A            1             O                N   \n",
       "4  5.036357e+06            A            1             O                N   \n",
       "\n",
       "    LOC_LONG    LOC_LAT  \n",
       "0 -73.861616  45.455505  \n",
       "1 -73.878549  45.486871  \n",
       "2 -73.871542  45.490564  \n",
       "3 -73.804841  45.484648  \n",
       "4 -73.543590  45.467136  \n",
       "\n",
       "[5 rows x 68 columns]"
      ]
     },
     "execution_count": 7,
     "metadata": {},
     "output_type": "execute_result"
    }
   ],
   "source": [
    "mtlcollisions_df.head(5)"
   ]
  },
  {
   "cell_type": "code",
   "execution_count": 10,
   "metadata": {},
   "outputs": [
    {
     "ename": "SyntaxError",
     "evalue": "unterminated string literal (detected at line 1) (3400989308.py, line 1)",
     "output_type": "error",
     "traceback": [
      "\u001b[1;36m  Cell \u001b[1;32mIn[10], line 1\u001b[1;36m\u001b[0m\n\u001b[1;33m    mtlcollisions_df.to_csv('raw_csv_output\")\u001b[0m\n\u001b[1;37m                            ^\u001b[0m\n\u001b[1;31mSyntaxError\u001b[0m\u001b[1;31m:\u001b[0m unterminated string literal (detected at line 1)\n"
     ]
    }
   ],
   "source": [
    "mtlcollisions_df.to_csv(\"raw_csv_output\")"
   ]
  },
  {
   "cell_type": "code",
   "execution_count": null,
   "metadata": {},
   "outputs": [],
   "source": []
  }
 ],
 "metadata": {
  "kernelspec": {
   "display_name": "Python 3 (ipykernel)",
   "language": "python",
   "name": "python3"
  },
  "language_info": {
   "codemirror_mode": {
    "name": "ipython",
    "version": 3
   },
   "file_extension": ".py",
   "mimetype": "text/x-python",
   "name": "python",
   "nbconvert_exporter": "python",
   "pygments_lexer": "ipython3",
   "version": "3.11.7"
  }
 },
 "nbformat": 4,
 "nbformat_minor": 4
}
